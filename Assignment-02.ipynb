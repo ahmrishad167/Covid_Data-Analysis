{
 "cells": [
  {
   "cell_type": "markdown",
   "id": "f3f0e2ef",
   "metadata": {},
   "source": [
    "# Assignment-02: Covid-19 Data Analysis using Python"
   ]
  },
  {
   "cell_type": "markdown",
   "id": "04f4ce7f",
   "metadata": {},
   "source": [
    "## Table of Content\n",
    "<ul>\n",
    "<li><a href=\"#intro\">Introduction</a></li>\n",
    "<li><a href=\"#processing\">Data Pre-Processing</a></li>\n",
    "<li><a href=\"#eda\">Data Analysis and Visualization</a></li>\n",
    "<li><a href=\"#conclusions\">Conclusions</a></li>\n",
    "</ul>"
   ]
  },
  {
   "cell_type": "markdown",
   "id": "b4c5a0ac",
   "metadata": {},
   "source": [
    "<a id='intro'></a>\n",
    "## Introduction\n",
    "\n",
    ">### **Project Overview**\n",
    ">For this assignment, I am using Covid-19 data from <a href=\"https://www.worldometers.info/coronavirus/\">Worldometer: Covid-19 Data</a>. This data set contains information about Covid-19 from all over the world."
   ]
  },
  {
   "cell_type": "markdown",
   "id": "539cf88f",
   "metadata": {},
   "source": [
    "#### Assignment-02 Main Objectives\n",
    ">***Find the***\n",
    "> 1. Country with largest and lowest total cases\n",
    "> 2. Country with largest and lowest total Active cases \n",
    "> 3. Country which has most and least total deaths\n",
    "> 4. Country with most and least total recovered\n",
    "> 5. Country with most Average Cases"
   ]
  },
  {
   "cell_type": "markdown",
   "id": "30525127",
   "metadata": {},
   "source": [
    "## Importing Necessasry Libraries"
   ]
  },
  {
   "cell_type": "code",
   "execution_count": 1,
   "id": "b0551c9a",
   "metadata": {},
   "outputs": [],
   "source": [
    "import pandas as pd\n",
    "import numpy as np\n",
    "import matplotlib.pyplot as plt"
   ]
  },
  {
   "cell_type": "markdown",
   "id": "56e1f627",
   "metadata": {},
   "source": [
    "<a id = \"processing\"></a>\n",
    "## Data Pre-Processing\n",
    "For the analysis, we will consider the relevant data only that can help to fullfill our objectives."
   ]
  },
  {
   "cell_type": "markdown",
   "id": "574d1326",
   "metadata": {},
   "source": [
    "### Load the Data"
   ]
  },
  {
   "cell_type": "code",
   "execution_count": 2,
   "id": "0d0578df",
   "metadata": {},
   "outputs": [],
   "source": [
    "covid_data = pd.read_excel('Covid_data.xlsx')"
   ]
  },
  {
   "cell_type": "markdown",
   "id": "4e1ed738",
   "metadata": {},
   "source": [
    "### Printing first five (5) rows with definedv columns of Covid-19 database"
   ]
  },
  {
   "cell_type": "code",
   "execution_count": 3,
   "id": "2835e7a8",
   "metadata": {},
   "outputs": [
    {
     "data": {
      "text/html": [
       "<div>\n",
       "<style scoped>\n",
       "    .dataframe tbody tr th:only-of-type {\n",
       "        vertical-align: middle;\n",
       "    }\n",
       "\n",
       "    .dataframe tbody tr th {\n",
       "        vertical-align: top;\n",
       "    }\n",
       "\n",
       "    .dataframe thead th {\n",
       "        text-align: right;\n",
       "    }\n",
       "</style>\n",
       "<table border=\"1\" class=\"dataframe\">\n",
       "  <thead>\n",
       "    <tr style=\"text-align: right;\">\n",
       "      <th></th>\n",
       "      <th>CountryID</th>\n",
       "      <th>CountryName</th>\n",
       "      <th>TotalCases</th>\n",
       "      <th>NewCases</th>\n",
       "      <th>TotalDeaths</th>\n",
       "      <th>NewDeaths</th>\n",
       "      <th>TotalRecovered</th>\n",
       "      <th>NewRecovered</th>\n",
       "      <th>ActiveCases</th>\n",
       "      <th>Critical</th>\n",
       "      <th>TotCases/1M pop</th>\n",
       "      <th>Deaths/1M pop</th>\n",
       "      <th>TotalTests</th>\n",
       "      <th>Tests/1M pop</th>\n",
       "      <th>Unnamed: 14</th>\n",
       "    </tr>\n",
       "  </thead>\n",
       "  <tbody>\n",
       "    <tr>\n",
       "      <th>0</th>\n",
       "      <td>NaN</td>\n",
       "      <td>World</td>\n",
       "      <td>683583861</td>\n",
       "      <td>57255.0</td>\n",
       "      <td>6828722.0</td>\n",
       "      <td>207.0</td>\n",
       "      <td>656530262.0</td>\n",
       "      <td>71751.0</td>\n",
       "      <td>20224877.0</td>\n",
       "      <td>40024.0</td>\n",
       "      <td>87697.0</td>\n",
       "      <td>876.1</td>\n",
       "      <td>NaN</td>\n",
       "      <td>NaN</td>\n",
       "      <td>NaN</td>\n",
       "    </tr>\n",
       "    <tr>\n",
       "      <th>1</th>\n",
       "      <td>1.0</td>\n",
       "      <td>USA</td>\n",
       "      <td>106122212</td>\n",
       "      <td>1561.0</td>\n",
       "      <td>1153983.0</td>\n",
       "      <td>11.0</td>\n",
       "      <td>103841395.0</td>\n",
       "      <td>2669.0</td>\n",
       "      <td>1126834.0</td>\n",
       "      <td>2062.0</td>\n",
       "      <td>316967.0</td>\n",
       "      <td>3447.0</td>\n",
       "      <td>1.172206e+09</td>\n",
       "      <td>3501158.0</td>\n",
       "      <td>3.348053e+08</td>\n",
       "    </tr>\n",
       "    <tr>\n",
       "      <th>2</th>\n",
       "      <td>2.0</td>\n",
       "      <td>India</td>\n",
       "      <td>44709676</td>\n",
       "      <td>NaN</td>\n",
       "      <td>530848.0</td>\n",
       "      <td>NaN</td>\n",
       "      <td>44166925.0</td>\n",
       "      <td>NaN</td>\n",
       "      <td>11903.0</td>\n",
       "      <td>NaN</td>\n",
       "      <td>31785.0</td>\n",
       "      <td>377.0</td>\n",
       "      <td>9.211613e+08</td>\n",
       "      <td>654870.0</td>\n",
       "      <td>1.406632e+09</td>\n",
       "    </tr>\n",
       "    <tr>\n",
       "      <th>3</th>\n",
       "      <td>3.0</td>\n",
       "      <td>France</td>\n",
       "      <td>39782589</td>\n",
       "      <td>10885.0</td>\n",
       "      <td>165609.0</td>\n",
       "      <td>36.0</td>\n",
       "      <td>39473539.0</td>\n",
       "      <td>NaN</td>\n",
       "      <td>143441.0</td>\n",
       "      <td>869.0</td>\n",
       "      <td>606585.0</td>\n",
       "      <td>2525.0</td>\n",
       "      <td>2.714902e+08</td>\n",
       "      <td>4139547.0</td>\n",
       "      <td>6.558452e+07</td>\n",
       "    </tr>\n",
       "    <tr>\n",
       "      <th>4</th>\n",
       "      <td>4.0</td>\n",
       "      <td>Germany</td>\n",
       "      <td>38343472</td>\n",
       "      <td>NaN</td>\n",
       "      <td>170627.0</td>\n",
       "      <td>NaN</td>\n",
       "      <td>38064200.0</td>\n",
       "      <td>12500.0</td>\n",
       "      <td>108645.0</td>\n",
       "      <td>NaN</td>\n",
       "      <td>457103.0</td>\n",
       "      <td>2034.0</td>\n",
       "      <td>1.223324e+08</td>\n",
       "      <td>1458359.0</td>\n",
       "      <td>8.388360e+07</td>\n",
       "    </tr>\n",
       "  </tbody>\n",
       "</table>\n",
       "</div>"
      ],
      "text/plain": [
       "   CountryID CountryName  TotalCases  NewCases  TotalDeaths  NewDeaths  \\\n",
       "0        NaN       World   683583861   57255.0    6828722.0      207.0   \n",
       "1        1.0         USA   106122212    1561.0    1153983.0       11.0   \n",
       "2        2.0       India    44709676       NaN     530848.0        NaN   \n",
       "3        3.0      France    39782589   10885.0     165609.0       36.0   \n",
       "4        4.0     Germany    38343472       NaN     170627.0        NaN   \n",
       "\n",
       "   TotalRecovered  NewRecovered  ActiveCases  Critical  TotCases/1M pop  \\\n",
       "0     656530262.0       71751.0   20224877.0   40024.0          87697.0   \n",
       "1     103841395.0        2669.0    1126834.0    2062.0         316967.0   \n",
       "2      44166925.0           NaN      11903.0       NaN          31785.0   \n",
       "3      39473539.0           NaN     143441.0     869.0         606585.0   \n",
       "4      38064200.0       12500.0     108645.0       NaN         457103.0   \n",
       "\n",
       "   Deaths/1M pop    TotalTests  Tests/1M pop   Unnamed: 14  \n",
       "0          876.1           NaN           NaN           NaN  \n",
       "1         3447.0  1.172206e+09     3501158.0  3.348053e+08  \n",
       "2          377.0  9.211613e+08      654870.0  1.406632e+09  \n",
       "3         2525.0  2.714902e+08     4139547.0  6.558452e+07  \n",
       "4         2034.0  1.223324e+08     1458359.0  8.388360e+07  "
      ]
     },
     "execution_count": 3,
     "metadata": {},
     "output_type": "execute_result"
    }
   ],
   "source": [
    "covid_data.head()"
   ]
  },
  {
   "cell_type": "markdown",
   "id": "b30c3175",
   "metadata": {},
   "source": [
    "### Observation from the data\n",
    ">> 1. Data type is different for different columns. However, for this analysis we need same data type (unit)\n",
    ">> 2. There are some unnecessary columns in the dataset which we don't need to solve the proposed objectives"
   ]
  },
  {
   "cell_type": "markdown",
   "id": "c236dd66",
   "metadata": {},
   "source": [
    "### Data Cleaning \n",
    "\n",
    "> **Date Cleaning process**\n",
    ">\n",
    "> 1. We need to remove unused column such as CountryID, Tot Cases/1M pop, Deaths/1M pop etc.\n",
    "> 2. Removing the duplicacy in the rows(if any).\n",
    "> 3. Replacing NaN with zero.\n",
    "> 4. Change the format (type) of the data."
   ]
  },
  {
   "cell_type": "markdown",
   "id": "941682e4",
   "metadata": {},
   "source": [
    "### Remove unused column"
   ]
  },
  {
   "cell_type": "code",
   "execution_count": 4,
   "id": "80434f4b",
   "metadata": {
    "scrolled": true
   },
   "outputs": [
    {
     "name": "stderr",
     "output_type": "stream",
     "text": [
      "C:\\Users\\ahmri\\AppData\\Local\\Temp\\ipykernel_3240\\839427411.py:5: FutureWarning: In a future version of pandas all arguments of DataFrame.drop except for the argument 'labels' will be keyword-only.\n",
      "  covid_data = covid_data.drop(del_col, 1)\n"
     ]
    },
    {
     "data": {
      "text/html": [
       "<div>\n",
       "<style scoped>\n",
       "    .dataframe tbody tr th:only-of-type {\n",
       "        vertical-align: middle;\n",
       "    }\n",
       "\n",
       "    .dataframe tbody tr th {\n",
       "        vertical-align: top;\n",
       "    }\n",
       "\n",
       "    .dataframe thead th {\n",
       "        text-align: right;\n",
       "    }\n",
       "</style>\n",
       "<table border=\"1\" class=\"dataframe\">\n",
       "  <thead>\n",
       "    <tr style=\"text-align: right;\">\n",
       "      <th></th>\n",
       "      <th>CountryName</th>\n",
       "      <th>TotalCases</th>\n",
       "      <th>NewCases</th>\n",
       "      <th>TotalDeaths</th>\n",
       "      <th>NewDeaths</th>\n",
       "      <th>TotalRecovered</th>\n",
       "      <th>NewRecovered</th>\n",
       "      <th>ActiveCases</th>\n",
       "      <th>Critical</th>\n",
       "      <th>TotalTests</th>\n",
       "    </tr>\n",
       "  </thead>\n",
       "  <tbody>\n",
       "    <tr>\n",
       "      <th>0</th>\n",
       "      <td>World</td>\n",
       "      <td>683583861</td>\n",
       "      <td>57255.0</td>\n",
       "      <td>6828722.0</td>\n",
       "      <td>207.0</td>\n",
       "      <td>656530262.0</td>\n",
       "      <td>71751.0</td>\n",
       "      <td>20224877.0</td>\n",
       "      <td>40024.0</td>\n",
       "      <td>NaN</td>\n",
       "    </tr>\n",
       "    <tr>\n",
       "      <th>1</th>\n",
       "      <td>USA</td>\n",
       "      <td>106122212</td>\n",
       "      <td>1561.0</td>\n",
       "      <td>1153983.0</td>\n",
       "      <td>11.0</td>\n",
       "      <td>103841395.0</td>\n",
       "      <td>2669.0</td>\n",
       "      <td>1126834.0</td>\n",
       "      <td>2062.0</td>\n",
       "      <td>1.172206e+09</td>\n",
       "    </tr>\n",
       "    <tr>\n",
       "      <th>2</th>\n",
       "      <td>India</td>\n",
       "      <td>44709676</td>\n",
       "      <td>NaN</td>\n",
       "      <td>530848.0</td>\n",
       "      <td>NaN</td>\n",
       "      <td>44166925.0</td>\n",
       "      <td>NaN</td>\n",
       "      <td>11903.0</td>\n",
       "      <td>NaN</td>\n",
       "      <td>9.211613e+08</td>\n",
       "    </tr>\n",
       "    <tr>\n",
       "      <th>3</th>\n",
       "      <td>France</td>\n",
       "      <td>39782589</td>\n",
       "      <td>10885.0</td>\n",
       "      <td>165609.0</td>\n",
       "      <td>36.0</td>\n",
       "      <td>39473539.0</td>\n",
       "      <td>NaN</td>\n",
       "      <td>143441.0</td>\n",
       "      <td>869.0</td>\n",
       "      <td>2.714902e+08</td>\n",
       "    </tr>\n",
       "    <tr>\n",
       "      <th>4</th>\n",
       "      <td>Germany</td>\n",
       "      <td>38343472</td>\n",
       "      <td>NaN</td>\n",
       "      <td>170627.0</td>\n",
       "      <td>NaN</td>\n",
       "      <td>38064200.0</td>\n",
       "      <td>12500.0</td>\n",
       "      <td>108645.0</td>\n",
       "      <td>NaN</td>\n",
       "      <td>1.223324e+08</td>\n",
       "    </tr>\n",
       "  </tbody>\n",
       "</table>\n",
       "</div>"
      ],
      "text/plain": [
       "  CountryName  TotalCases  NewCases  TotalDeaths  NewDeaths  TotalRecovered  \\\n",
       "0       World   683583861   57255.0    6828722.0      207.0     656530262.0   \n",
       "1         USA   106122212    1561.0    1153983.0       11.0     103841395.0   \n",
       "2       India    44709676       NaN     530848.0        NaN      44166925.0   \n",
       "3      France    39782589   10885.0     165609.0       36.0      39473539.0   \n",
       "4     Germany    38343472       NaN     170627.0        NaN      38064200.0   \n",
       "\n",
       "   NewRecovered  ActiveCases  Critical    TotalTests  \n",
       "0       71751.0   20224877.0   40024.0           NaN  \n",
       "1        2669.0    1126834.0    2062.0  1.172206e+09  \n",
       "2           NaN      11903.0       NaN  9.211613e+08  \n",
       "3           NaN     143441.0     869.0  2.714902e+08  \n",
       "4       12500.0     108645.0       NaN  1.223324e+08  "
      ]
     },
     "execution_count": 4,
     "metadata": {},
     "output_type": "execute_result"
    }
   ],
   "source": [
    "# Creating a list of column to be deleted\n",
    "del_col = ['CountryID','TotCases/1M pop','Deaths/1M pop','Tests/1M pop','Unnamed: 14']\n",
    "\n",
    "# Deleting the columns\n",
    "covid_data = covid_data.drop(del_col, 1)\n",
    "\n",
    "#Previwing the new dataset\n",
    "covid_data.head()"
   ]
  },
  {
   "cell_type": "markdown",
   "id": "29c233e9",
   "metadata": {},
   "source": [
    "### Removing the duplicacy"
   ]
  },
  {
   "cell_type": "code",
   "execution_count": 5,
   "id": "e0cdbbb2",
   "metadata": {},
   "outputs": [
    {
     "name": "stdout",
     "output_type": "stream",
     "text": [
      "There are 231 total entries of movies and 10 no.of columns in it.\n"
     ]
    }
   ],
   "source": [
    "rows, col = covid_data.shape\n",
    "#We need to reduce the count of row by one as contain header row also.\n",
    "print('There are {} total entries of movies and {} no.of columns in it.'.format(rows-1, col))"
   ]
  },
  {
   "cell_type": "code",
   "execution_count": 6,
   "id": "067d7d66",
   "metadata": {},
   "outputs": [
    {
     "name": "stdout",
     "output_type": "stream",
     "text": [
      "There are now 231 total entries of movies and 10 no.of columns in it.\n"
     ]
    }
   ],
   "source": [
    "covid_data.drop_duplicates(keep ='first', inplace=True)\n",
    "rows, col = covid_data.shape\n",
    "\n",
    "print('There are now {} total entries of movies and {} no.of columns in it.'.format(rows-1, col))"
   ]
  },
  {
   "cell_type": "markdown",
   "id": "797856b1",
   "metadata": {},
   "source": [
    "### Replacing NaN with zero."
   ]
  },
  {
   "cell_type": "code",
   "execution_count": 7,
   "id": "097a6a3f",
   "metadata": {},
   "outputs": [
    {
     "data": {
      "text/html": [
       "<div>\n",
       "<style scoped>\n",
       "    .dataframe tbody tr th:only-of-type {\n",
       "        vertical-align: middle;\n",
       "    }\n",
       "\n",
       "    .dataframe tbody tr th {\n",
       "        vertical-align: top;\n",
       "    }\n",
       "\n",
       "    .dataframe thead th {\n",
       "        text-align: right;\n",
       "    }\n",
       "</style>\n",
       "<table border=\"1\" class=\"dataframe\">\n",
       "  <thead>\n",
       "    <tr style=\"text-align: right;\">\n",
       "      <th></th>\n",
       "      <th>CountryName</th>\n",
       "      <th>TotalCases</th>\n",
       "      <th>NewCases</th>\n",
       "      <th>TotalDeaths</th>\n",
       "      <th>NewDeaths</th>\n",
       "      <th>TotalRecovered</th>\n",
       "      <th>NewRecovered</th>\n",
       "      <th>ActiveCases</th>\n",
       "      <th>Critical</th>\n",
       "      <th>TotalTests</th>\n",
       "    </tr>\n",
       "  </thead>\n",
       "  <tbody>\n",
       "    <tr>\n",
       "      <th>0</th>\n",
       "      <td>World</td>\n",
       "      <td>683583861</td>\n",
       "      <td>57255.0</td>\n",
       "      <td>6828722.0</td>\n",
       "      <td>207.0</td>\n",
       "      <td>656530262.0</td>\n",
       "      <td>71751.0</td>\n",
       "      <td>20224877.0</td>\n",
       "      <td>40024.0</td>\n",
       "      <td>0.000000e+00</td>\n",
       "    </tr>\n",
       "    <tr>\n",
       "      <th>1</th>\n",
       "      <td>USA</td>\n",
       "      <td>106122212</td>\n",
       "      <td>1561.0</td>\n",
       "      <td>1153983.0</td>\n",
       "      <td>11.0</td>\n",
       "      <td>103841395.0</td>\n",
       "      <td>2669.0</td>\n",
       "      <td>1126834.0</td>\n",
       "      <td>2062.0</td>\n",
       "      <td>1.172206e+09</td>\n",
       "    </tr>\n",
       "    <tr>\n",
       "      <th>2</th>\n",
       "      <td>India</td>\n",
       "      <td>44709676</td>\n",
       "      <td>0.0</td>\n",
       "      <td>530848.0</td>\n",
       "      <td>0.0</td>\n",
       "      <td>44166925.0</td>\n",
       "      <td>0.0</td>\n",
       "      <td>11903.0</td>\n",
       "      <td>0.0</td>\n",
       "      <td>9.211613e+08</td>\n",
       "    </tr>\n",
       "    <tr>\n",
       "      <th>3</th>\n",
       "      <td>France</td>\n",
       "      <td>39782589</td>\n",
       "      <td>10885.0</td>\n",
       "      <td>165609.0</td>\n",
       "      <td>36.0</td>\n",
       "      <td>39473539.0</td>\n",
       "      <td>0.0</td>\n",
       "      <td>143441.0</td>\n",
       "      <td>869.0</td>\n",
       "      <td>2.714902e+08</td>\n",
       "    </tr>\n",
       "    <tr>\n",
       "      <th>4</th>\n",
       "      <td>Germany</td>\n",
       "      <td>38343472</td>\n",
       "      <td>0.0</td>\n",
       "      <td>170627.0</td>\n",
       "      <td>0.0</td>\n",
       "      <td>38064200.0</td>\n",
       "      <td>12500.0</td>\n",
       "      <td>108645.0</td>\n",
       "      <td>0.0</td>\n",
       "      <td>1.223324e+08</td>\n",
       "    </tr>\n",
       "  </tbody>\n",
       "</table>\n",
       "</div>"
      ],
      "text/plain": [
       "  CountryName  TotalCases  NewCases  TotalDeaths  NewDeaths  TotalRecovered  \\\n",
       "0       World   683583861   57255.0    6828722.0      207.0     656530262.0   \n",
       "1         USA   106122212    1561.0    1153983.0       11.0     103841395.0   \n",
       "2       India    44709676       0.0     530848.0        0.0      44166925.0   \n",
       "3      France    39782589   10885.0     165609.0       36.0      39473539.0   \n",
       "4     Germany    38343472       0.0     170627.0        0.0      38064200.0   \n",
       "\n",
       "   NewRecovered  ActiveCases  Critical    TotalTests  \n",
       "0       71751.0   20224877.0   40024.0  0.000000e+00  \n",
       "1        2669.0    1126834.0    2062.0  1.172206e+09  \n",
       "2           0.0      11903.0       0.0  9.211613e+08  \n",
       "3           0.0     143441.0     869.0  2.714902e+08  \n",
       "4       12500.0     108645.0       0.0  1.223324e+08  "
      ]
     },
     "execution_count": 7,
     "metadata": {},
     "output_type": "execute_result"
    }
   ],
   "source": [
    "# Replacing NaN with zero.\n",
    "covid_data = covid_data.fillna(0)\n",
    "covid_data.head()"
   ]
  },
  {
   "cell_type": "markdown",
   "id": "51442df6",
   "metadata": {},
   "source": [
    "### Change the format (type) of the data"
   ]
  },
  {
   "cell_type": "code",
   "execution_count": 8,
   "id": "cf77dfc4",
   "metadata": {},
   "outputs": [
    {
     "data": {
      "text/plain": [
       "CountryName        object\n",
       "TotalCases          int64\n",
       "NewCases          float64\n",
       "TotalDeaths       float64\n",
       "NewDeaths         float64\n",
       "TotalRecovered    float64\n",
       "NewRecovered      float64\n",
       "ActiveCases       float64\n",
       "Critical          float64\n",
       "TotalTests        float64\n",
       "dtype: object"
      ]
     },
     "execution_count": 8,
     "metadata": {},
     "output_type": "execute_result"
    }
   ],
   "source": [
    "#printing the data type of the data set\n",
    "covid_data.dtypes"
   ]
  },
  {
   "cell_type": "code",
   "execution_count": 9,
   "id": "25e2f135",
   "metadata": {
    "scrolled": true
   },
   "outputs": [
    {
     "data": {
      "text/html": [
       "<div>\n",
       "<style scoped>\n",
       "    .dataframe tbody tr th:only-of-type {\n",
       "        vertical-align: middle;\n",
       "    }\n",
       "\n",
       "    .dataframe tbody tr th {\n",
       "        vertical-align: top;\n",
       "    }\n",
       "\n",
       "    .dataframe thead th {\n",
       "        text-align: right;\n",
       "    }\n",
       "</style>\n",
       "<table border=\"1\" class=\"dataframe\">\n",
       "  <thead>\n",
       "    <tr style=\"text-align: right;\">\n",
       "      <th></th>\n",
       "      <th>TotalCases</th>\n",
       "      <th>NewCases</th>\n",
       "      <th>TotalDeaths</th>\n",
       "      <th>NewDeaths</th>\n",
       "      <th>TotalRecovered</th>\n",
       "      <th>NewRecovered</th>\n",
       "      <th>ActiveCases</th>\n",
       "      <th>Critical</th>\n",
       "      <th>TotalTests</th>\n",
       "    </tr>\n",
       "  </thead>\n",
       "  <tbody>\n",
       "    <tr>\n",
       "      <th>0</th>\n",
       "      <td>683583861</td>\n",
       "      <td>57255</td>\n",
       "      <td>6828722</td>\n",
       "      <td>207</td>\n",
       "      <td>656530262</td>\n",
       "      <td>71751</td>\n",
       "      <td>20224877</td>\n",
       "      <td>40024</td>\n",
       "      <td>0</td>\n",
       "    </tr>\n",
       "    <tr>\n",
       "      <th>1</th>\n",
       "      <td>106122212</td>\n",
       "      <td>1561</td>\n",
       "      <td>1153983</td>\n",
       "      <td>11</td>\n",
       "      <td>103841395</td>\n",
       "      <td>2669</td>\n",
       "      <td>1126834</td>\n",
       "      <td>2062</td>\n",
       "      <td>1172206249</td>\n",
       "    </tr>\n",
       "    <tr>\n",
       "      <th>2</th>\n",
       "      <td>44709676</td>\n",
       "      <td>0</td>\n",
       "      <td>530848</td>\n",
       "      <td>0</td>\n",
       "      <td>44166925</td>\n",
       "      <td>0</td>\n",
       "      <td>11903</td>\n",
       "      <td>0</td>\n",
       "      <td>921161295</td>\n",
       "    </tr>\n",
       "    <tr>\n",
       "      <th>3</th>\n",
       "      <td>39782589</td>\n",
       "      <td>10885</td>\n",
       "      <td>165609</td>\n",
       "      <td>36</td>\n",
       "      <td>39473539</td>\n",
       "      <td>0</td>\n",
       "      <td>143441</td>\n",
       "      <td>869</td>\n",
       "      <td>271490188</td>\n",
       "    </tr>\n",
       "    <tr>\n",
       "      <th>4</th>\n",
       "      <td>38343472</td>\n",
       "      <td>0</td>\n",
       "      <td>170627</td>\n",
       "      <td>0</td>\n",
       "      <td>38064200</td>\n",
       "      <td>12500</td>\n",
       "      <td>108645</td>\n",
       "      <td>0</td>\n",
       "      <td>122332384</td>\n",
       "    </tr>\n",
       "    <tr>\n",
       "      <th>...</th>\n",
       "      <td>...</td>\n",
       "      <td>...</td>\n",
       "      <td>...</td>\n",
       "      <td>...</td>\n",
       "      <td>...</td>\n",
       "      <td>...</td>\n",
       "      <td>...</td>\n",
       "      <td>...</td>\n",
       "      <td>...</td>\n",
       "    </tr>\n",
       "    <tr>\n",
       "      <th>227</th>\n",
       "      <td>712</td>\n",
       "      <td>0</td>\n",
       "      <td>13</td>\n",
       "      <td>0</td>\n",
       "      <td>699</td>\n",
       "      <td>0</td>\n",
       "      <td>0</td>\n",
       "      <td>0</td>\n",
       "      <td>0</td>\n",
       "    </tr>\n",
       "    <tr>\n",
       "      <th>228</th>\n",
       "      <td>29</td>\n",
       "      <td>0</td>\n",
       "      <td>0</td>\n",
       "      <td>0</td>\n",
       "      <td>29</td>\n",
       "      <td>0</td>\n",
       "      <td>0</td>\n",
       "      <td>0</td>\n",
       "      <td>0</td>\n",
       "    </tr>\n",
       "    <tr>\n",
       "      <th>229</th>\n",
       "      <td>10</td>\n",
       "      <td>0</td>\n",
       "      <td>1</td>\n",
       "      <td>0</td>\n",
       "      <td>9</td>\n",
       "      <td>0</td>\n",
       "      <td>0</td>\n",
       "      <td>0</td>\n",
       "      <td>0</td>\n",
       "    </tr>\n",
       "    <tr>\n",
       "      <th>230</th>\n",
       "      <td>9</td>\n",
       "      <td>0</td>\n",
       "      <td>2</td>\n",
       "      <td>0</td>\n",
       "      <td>7</td>\n",
       "      <td>0</td>\n",
       "      <td>0</td>\n",
       "      <td>0</td>\n",
       "      <td>0</td>\n",
       "    </tr>\n",
       "    <tr>\n",
       "      <th>231</th>\n",
       "      <td>5</td>\n",
       "      <td>0</td>\n",
       "      <td>0</td>\n",
       "      <td>0</td>\n",
       "      <td>0</td>\n",
       "      <td>0</td>\n",
       "      <td>5</td>\n",
       "      <td>0</td>\n",
       "      <td>0</td>\n",
       "    </tr>\n",
       "  </tbody>\n",
       "</table>\n",
       "<p>232 rows × 9 columns</p>\n",
       "</div>"
      ],
      "text/plain": [
       "     TotalCases  NewCases  TotalDeaths  NewDeaths  TotalRecovered  \\\n",
       "0     683583861     57255      6828722        207       656530262   \n",
       "1     106122212      1561      1153983         11       103841395   \n",
       "2      44709676         0       530848          0        44166925   \n",
       "3      39782589     10885       165609         36        39473539   \n",
       "4      38343472         0       170627          0        38064200   \n",
       "..          ...       ...          ...        ...             ...   \n",
       "227         712         0           13          0             699   \n",
       "228          29         0            0          0              29   \n",
       "229          10         0            1          0               9   \n",
       "230           9         0            2          0               7   \n",
       "231           5         0            0          0               0   \n",
       "\n",
       "     NewRecovered  ActiveCases  Critical  TotalTests  \n",
       "0           71751     20224877     40024           0  \n",
       "1            2669      1126834      2062  1172206249  \n",
       "2               0        11903         0   921161295  \n",
       "3               0       143441       869   271490188  \n",
       "4           12500       108645         0   122332384  \n",
       "..            ...          ...       ...         ...  \n",
       "227             0            0         0           0  \n",
       "228             0            0         0           0  \n",
       "229             0            0         0           0  \n",
       "230             0            0         0           0  \n",
       "231             0            5         0           0  \n",
       "\n",
       "[232 rows x 9 columns]"
      ]
     },
     "execution_count": 9,
     "metadata": {},
     "output_type": "execute_result"
    }
   ],
   "source": [
    "#change_col = ['CountryID','TotCases/1M pop','Deaths/1M pop','Tests/1M pop','Unnamed: 14']\n",
    "covid_data.iloc[:,1:].astype('int64')"
   ]
  },
  {
   "cell_type": "code",
   "execution_count": 10,
   "id": "02babee5",
   "metadata": {},
   "outputs": [
    {
     "data": {
      "text/plain": [
       "CountryName        object\n",
       "TotalCases          int64\n",
       "NewCases          float64\n",
       "TotalDeaths       float64\n",
       "NewDeaths         float64\n",
       "TotalRecovered    float64\n",
       "NewRecovered      float64\n",
       "ActiveCases       float64\n",
       "Critical          float64\n",
       "TotalTests        float64\n",
       "dtype: object"
      ]
     },
     "execution_count": 10,
     "metadata": {},
     "output_type": "execute_result"
    }
   ],
   "source": [
    "covid_data.dtypes"
   ]
  },
  {
   "cell_type": "code",
   "execution_count": 11,
   "id": "c80ec1bd",
   "metadata": {},
   "outputs": [],
   "source": [
    "covid_data.drop(index=covid_data.index[0], axis=0, inplace=True)"
   ]
  },
  {
   "cell_type": "code",
   "execution_count": 12,
   "id": "8a000665",
   "metadata": {},
   "outputs": [
    {
     "data": {
      "text/html": [
       "<div>\n",
       "<style scoped>\n",
       "    .dataframe tbody tr th:only-of-type {\n",
       "        vertical-align: middle;\n",
       "    }\n",
       "\n",
       "    .dataframe tbody tr th {\n",
       "        vertical-align: top;\n",
       "    }\n",
       "\n",
       "    .dataframe thead th {\n",
       "        text-align: right;\n",
       "    }\n",
       "</style>\n",
       "<table border=\"1\" class=\"dataframe\">\n",
       "  <thead>\n",
       "    <tr style=\"text-align: right;\">\n",
       "      <th></th>\n",
       "      <th>CountryName</th>\n",
       "      <th>TotalCases</th>\n",
       "      <th>NewCases</th>\n",
       "      <th>TotalDeaths</th>\n",
       "      <th>NewDeaths</th>\n",
       "      <th>TotalRecovered</th>\n",
       "      <th>NewRecovered</th>\n",
       "      <th>ActiveCases</th>\n",
       "      <th>Critical</th>\n",
       "      <th>TotalTests</th>\n",
       "    </tr>\n",
       "  </thead>\n",
       "  <tbody>\n",
       "    <tr>\n",
       "      <th>1</th>\n",
       "      <td>USA</td>\n",
       "      <td>106122212</td>\n",
       "      <td>1561.0</td>\n",
       "      <td>1153983.0</td>\n",
       "      <td>11.0</td>\n",
       "      <td>103841395.0</td>\n",
       "      <td>2669.0</td>\n",
       "      <td>1126834.0</td>\n",
       "      <td>2062.0</td>\n",
       "      <td>1.172206e+09</td>\n",
       "    </tr>\n",
       "    <tr>\n",
       "      <th>2</th>\n",
       "      <td>India</td>\n",
       "      <td>44709676</td>\n",
       "      <td>0.0</td>\n",
       "      <td>530848.0</td>\n",
       "      <td>0.0</td>\n",
       "      <td>44166925.0</td>\n",
       "      <td>0.0</td>\n",
       "      <td>11903.0</td>\n",
       "      <td>0.0</td>\n",
       "      <td>9.211613e+08</td>\n",
       "    </tr>\n",
       "    <tr>\n",
       "      <th>3</th>\n",
       "      <td>France</td>\n",
       "      <td>39782589</td>\n",
       "      <td>10885.0</td>\n",
       "      <td>165609.0</td>\n",
       "      <td>36.0</td>\n",
       "      <td>39473539.0</td>\n",
       "      <td>0.0</td>\n",
       "      <td>143441.0</td>\n",
       "      <td>869.0</td>\n",
       "      <td>2.714902e+08</td>\n",
       "    </tr>\n",
       "    <tr>\n",
       "      <th>4</th>\n",
       "      <td>Germany</td>\n",
       "      <td>38343472</td>\n",
       "      <td>0.0</td>\n",
       "      <td>170627.0</td>\n",
       "      <td>0.0</td>\n",
       "      <td>38064200.0</td>\n",
       "      <td>12500.0</td>\n",
       "      <td>108645.0</td>\n",
       "      <td>0.0</td>\n",
       "      <td>1.223324e+08</td>\n",
       "    </tr>\n",
       "    <tr>\n",
       "      <th>5</th>\n",
       "      <td>Brazil</td>\n",
       "      <td>37258663</td>\n",
       "      <td>0.0</td>\n",
       "      <td>700239.0</td>\n",
       "      <td>0.0</td>\n",
       "      <td>36249161.0</td>\n",
       "      <td>0.0</td>\n",
       "      <td>309263.0</td>\n",
       "      <td>0.0</td>\n",
       "      <td>6.377617e+07</td>\n",
       "    </tr>\n",
       "  </tbody>\n",
       "</table>\n",
       "</div>"
      ],
      "text/plain": [
       "  CountryName  TotalCases  NewCases  TotalDeaths  NewDeaths  TotalRecovered  \\\n",
       "1         USA   106122212    1561.0    1153983.0       11.0     103841395.0   \n",
       "2       India    44709676       0.0     530848.0        0.0      44166925.0   \n",
       "3      France    39782589   10885.0     165609.0       36.0      39473539.0   \n",
       "4     Germany    38343472       0.0     170627.0        0.0      38064200.0   \n",
       "5      Brazil    37258663       0.0     700239.0        0.0      36249161.0   \n",
       "\n",
       "   NewRecovered  ActiveCases  Critical    TotalTests  \n",
       "1        2669.0    1126834.0    2062.0  1.172206e+09  \n",
       "2           0.0      11903.0       0.0  9.211613e+08  \n",
       "3           0.0     143441.0     869.0  2.714902e+08  \n",
       "4       12500.0     108645.0       0.0  1.223324e+08  \n",
       "5           0.0     309263.0       0.0  6.377617e+07  "
      ]
     },
     "execution_count": 12,
     "metadata": {},
     "output_type": "execute_result"
    }
   ],
   "source": [
    "covid_data.head()"
   ]
  },
  {
   "cell_type": "markdown",
   "id": "61d09383",
   "metadata": {},
   "source": [
    "### Data Analysis"
   ]
  },
  {
   "cell_type": "markdown",
   "id": "0f893e69",
   "metadata": {},
   "source": [
    "#### 1. Country with largest and lowest total cases"
   ]
  },
  {
   "cell_type": "code",
   "execution_count": 13,
   "id": "9bb8a2d2",
   "metadata": {},
   "outputs": [
    {
     "name": "stdout",
     "output_type": "stream",
     "text": [
      "The country with the largest total cases is USA with 106122212 total cases.\n"
     ]
    }
   ],
   "source": [
    "# Find the country with the largest total cases and its value\n",
    "largest_country = covid_data.loc[covid_data['TotalCases'] == covid_data['TotalCases'].max()]\n",
    "largest_country_name = largest_country['CountryName'].iloc[0]\n",
    "largest_country_cases = largest_country['TotalCases'].iloc[0]\n",
    "print(f\"The country with the largest total cases is {largest_country_name} with {largest_country_cases} total cases.\")\n"
   ]
  },
  {
   "cell_type": "code",
   "execution_count": 14,
   "id": "33ce0cd1",
   "metadata": {},
   "outputs": [
    {
     "name": "stdout",
     "output_type": "stream",
     "text": [
      "The country with the lowest total cases is Tokelau with 5 total cases.\n"
     ]
    }
   ],
   "source": [
    "# Find the country with the lowest total cases and its value\n",
    "lowest_country = covid_data.loc[covid_data['TotalCases'] == covid_data['TotalCases'].min()]\n",
    "lowest_country_name = lowest_country['CountryName'].iloc[0]\n",
    "lowest_country_cases = lowest_country['TotalCases'].iloc[0]\n",
    "\n",
    "# Print the results\n",
    "print(f\"The country with the lowest total cases is {lowest_country_name} with {lowest_country_cases} total cases.\")"
   ]
  },
  {
   "cell_type": "markdown",
   "id": "f8bb564b",
   "metadata": {},
   "source": [
    "### 2. Country with largest and lowest total Active cases"
   ]
  },
  {
   "cell_type": "code",
   "execution_count": 15,
   "id": "bdfc1f02",
   "metadata": {},
   "outputs": [
    {
     "name": "stdout",
     "output_type": "stream",
     "text": [
      "The country with the largest total active cases is Japan with 11650580.0 total active cases.\n"
     ]
    }
   ],
   "source": [
    "# Find the country with the largest total active cases and its value\n",
    "largest_country = covid_data.loc[covid_data['ActiveCases'] == covid_data['ActiveCases'].max()]\n",
    "largest_country_name = largest_country['CountryName'].iloc[0]\n",
    "largest_country_cases = largest_country['ActiveCases'].iloc[0]\n",
    "print(f\"The country with the largest total active cases is {largest_country_name} with {largest_country_cases} total active cases.\")\n"
   ]
  },
  {
   "cell_type": "code",
   "execution_count": 16,
   "id": "98efd7f1",
   "metadata": {},
   "outputs": [
    {
     "name": "stdout",
     "output_type": "stream",
     "text": [
      "The country with the lowest total cases is New Caledonia with 79912 total cases.\n"
     ]
    }
   ],
   "source": [
    "# Find the country with the lowest total active cases and its value\n",
    "lowest_country = covid_data.loc[covid_data['ActiveCases'] == covid_data['ActiveCases'].min()]\n",
    "lowest_country_name = lowest_country['CountryName'].iloc[0]\n",
    "lowest_country_cases = lowest_country['TotalCases'].iloc[0]\n",
    "\n",
    "# Print the results\n",
    "print(f\"The country with the lowest total cases is {lowest_country_name} with {lowest_country_cases} total cases.\")"
   ]
  },
  {
   "cell_type": "code",
   "execution_count": null,
   "id": "472c2424",
   "metadata": {},
   "outputs": [],
   "source": []
  },
  {
   "cell_type": "markdown",
   "id": "e7bfa407",
   "metadata": {},
   "source": [
    "### 3. Country which has most and least total deaths"
   ]
  },
  {
   "cell_type": "code",
   "execution_count": 17,
   "id": "f7d26da9",
   "metadata": {},
   "outputs": [
    {
     "name": "stdout",
     "output_type": "stream",
     "text": [
      "The country with the largest Total Deaths is USA with 1153983.0 Total Deaths.\n"
     ]
    }
   ],
   "source": [
    "# Find the country with the largest total deaths and its value\n",
    "largest_country = covid_data.loc[covid_data['TotalDeaths'] == covid_data['TotalDeaths'].max()]\n",
    "largest_country_name = largest_country['CountryName'].iloc[0]\n",
    "largest_country_cases = largest_country['TotalDeaths'].iloc[0]\n",
    "print(f\"The country with the largest Total Deaths is {largest_country_name} with {largest_country_cases} Total Deaths.\")\n"
   ]
  },
  {
   "cell_type": "code",
   "execution_count": 18,
   "id": "f17c7045",
   "metadata": {},
   "outputs": [
    {
     "name": "stdout",
     "output_type": "stream",
     "text": [
      "The country with the lowest Total Deaths is Tuvalu with 0.0 Total Deaths.\n"
     ]
    }
   ],
   "source": [
    "# Find the country with the lowest total deaths and its value\n",
    "lowest_country = covid_data.loc[covid_data['TotalDeaths'] == covid_data['TotalDeaths'].min()]\n",
    "lowest_country_name = lowest_country['CountryName'].iloc[0]\n",
    "lowest_country_cases = lowest_country['TotalDeaths'].iloc[0]\n",
    "\n",
    "# Print the results\n",
    "print(f\"The country with the lowest Total Deaths is {lowest_country_name} with {lowest_country_cases} Total Deaths.\")"
   ]
  },
  {
   "cell_type": "markdown",
   "id": "0e6916ee",
   "metadata": {},
   "source": [
    "### 4. Country with most and least total recovered"
   ]
  },
  {
   "cell_type": "code",
   "execution_count": 19,
   "id": "9871ad1c",
   "metadata": {},
   "outputs": [
    {
     "name": "stdout",
     "output_type": "stream",
     "text": [
      "The country with the largest Total Recovered is USA with 103841395.0 Total Recovered.\n"
     ]
    }
   ],
   "source": [
    "# Find the country with the largest total deaths and its value\n",
    "largest_country = covid_data.loc[covid_data['TotalRecovered'] == covid_data['TotalRecovered'].max()]\n",
    "largest_country_name = largest_country['CountryName'].iloc[0]\n",
    "largest_country_cases = largest_country['TotalRecovered'].iloc[0]\n",
    "print(f\"The country with the largest Total Recovered is {largest_country_name} with {largest_country_cases} Total Recovered.\")\n"
   ]
  },
  {
   "cell_type": "code",
   "execution_count": 20,
   "id": "bc709d63",
   "metadata": {},
   "outputs": [
    {
     "name": "stdout",
     "output_type": "stream",
     "text": [
      "The country with the lowest Total Recovered is Turkey with 0.0 Total Recovered.\n"
     ]
    }
   ],
   "source": [
    "# Find the country with the lowest total deaths and its value\n",
    "lowest_country = covid_data.loc[covid_data['TotalRecovered'] == covid_data['TotalRecovered'].min()]\n",
    "lowest_country_name = lowest_country['CountryName'].iloc[0]\n",
    "lowest_country_cases = lowest_country['TotalRecovered'].iloc[0]\n",
    "\n",
    "# Print the results\n",
    "print(f\"The country with the lowest Total Recovered is {lowest_country_name} with {lowest_country_cases} Total Recovered.\")"
   ]
  },
  {
   "cell_type": "markdown",
   "id": "cc1842b7",
   "metadata": {},
   "source": [
    "### 5. Country with most Average Cases"
   ]
  },
  {
   "cell_type": "code",
   "execution_count": 21,
   "id": "1e7b420a",
   "metadata": {},
   "outputs": [
    {
     "name": "stdout",
     "output_type": "stream",
     "text": [
      "The country with the most average cases is USA with an average of 106122212.00 cases.\n"
     ]
    }
   ],
   "source": [
    "# Calculate the average number of cases per country\n",
    "avg_cases = covid_data.groupby('CountryName')['TotalCases'].mean()\n",
    "\n",
    "most_avg_cases = avg_cases.idxmax()\n",
    "most_avg_cases_value = avg_cases.loc[most_avg_cases]\n",
    "\n",
    "# Print the result\n",
    "print(f\"The country with the most average cases is {most_avg_cases} with an average of {most_avg_cases_value:.2f} cases.\")"
   ]
  },
  {
   "cell_type": "markdown",
   "id": "296d0951",
   "metadata": {},
   "source": [
    "## Data Visualization"
   ]
  },
  {
   "cell_type": "markdown",
   "id": "5166bb9c",
   "metadata": {},
   "source": [
    "### Scatter Plot of this Covid Data"
   ]
  },
  {
   "cell_type": "code",
   "execution_count": 22,
   "id": "b5cb0b3b",
   "metadata": {},
   "outputs": [
    {
     "data": {
      "image/png": "[encoded data removed]",
      "text/plain": [
       "<Figure size 640x480 with 1 Axes>"
      ]
     },
     "metadata": {},
     "output_type": "display_data"
    },
    {
     "data": {
      "image/png": "[encoded data removed]",
      "text/plain": [
       "<Figure size 640x480 with 1 Axes>"
      ]
     },
     "metadata": {},
     "output_type": "display_data"
    },
    {
     "data": {
      "image/png": "[encoded data removed]",
      "text/plain": [
       "<Figure size 640x480 with 1 Axes>"
      ]
     },
     "metadata": {},
     "output_type": "display_data"
    }
   ],
   "source": [
    "# Create a scatter plot using Matplotlib\n",
    "fig, ax = plt.subplots()\n",
    "ax.scatter(covid_data['TotalCases'], covid_data['TotalDeaths'], s=100, alpha=0.5, edgecolors='none', c='blue')\n",
    "ax.set_xlabel('Total Cases')\n",
    "ax.set_ylabel('Total Deaths')\n",
    "ax.set_title('Total Cases vs Total Deaths')\n",
    "plt.show()\n",
    "\n",
    "fig, ax = plt.subplots()\n",
    "ax.scatter(covid_data['TotalRecovered'], covid_data['ActiveCases'], s=100, alpha=0.5, edgecolors='none', c='green')\n",
    "ax.set_xlabel('Total Recovered')\n",
    "ax.set_ylabel('Active Cases')\n",
    "ax.set_title('Total Recovered vs Active Cases')\n",
    "plt.show()\n",
    "\n",
    "fig, ax = plt.subplots()\n",
    "ax.scatter(covid_data['TotalTests'], covid_data['TotalCases'], s=100, alpha=0.5, edgecolors='none', c='red')\n",
    "ax.set_xlabel('Total Tests')\n",
    "ax.set_ylabel('Total Cases')\n",
    "ax.set_title('Total Tests vs Total Cases')\n",
    "plt.show()"
   ]
  },
  {
   "cell_type": "markdown",
   "id": "459fb0b0",
   "metadata": {},
   "source": [
    "### Top Five (5) Countries based on the total cases"
   ]
  },
  {
   "cell_type": "code",
   "execution_count": 23,
   "id": "959d9f51",
   "metadata": {},
   "outputs": [
    {
     "data": {
      "image/png": "[encoded data removed]",
      "text/plain": [
       "<Figure size 640x480 with 1 Axes>"
      ]
     },
     "metadata": {},
     "output_type": "display_data"
    }
   ],
   "source": [
    "# Sort the dataframe by TotalCases in descending order and select the top 5 countries\n",
    "top5 = covid_data.sort_values(by='TotalCases', ascending=False).head(5)\n",
    "\n",
    "# Create a bar graph using Matplotlib\n",
    "plt.bar(top5['CountryName'], top5['TotalCases'])\n",
    "plt.xlabel('Country')\n",
    "plt.ylabel('Total Cases')\n",
    "plt.title('Top 5 Countries by Total Cases')\n",
    "plt.show()"
   ]
  },
  {
   "cell_type": "markdown",
   "id": "a8e83d5a",
   "metadata": {},
   "source": [
    "## Top Five (5) Countries based on the total deaths"
   ]
  },
  {
   "cell_type": "code",
   "execution_count": 24,
   "id": "28aa41a0",
   "metadata": {},
   "outputs": [
    {
     "data": {
      "image/png": "[encoded data removed]",
      "text/plain": [
       "<Figure size 640x480 with 1 Axes>"
      ]
     },
     "metadata": {},
     "output_type": "display_data"
    }
   ],
   "source": [
    "# Sort the dataframe by TotalCases in descending order and select the top 5 countries\n",
    "top5 = covid_data.sort_values(by='TotalDeaths', ascending=False).head(5)\n",
    "\n",
    "# Create a bar graph using Matplotlib\n",
    "plt.bar(top5['CountryName'], top5['TotalDeaths'])\n",
    "plt.xlabel('Country')\n",
    "plt.ylabel('Total Deaths')\n",
    "plt.title('Top 5 Countries by Total Deaths')\n",
    "plt.show()"
   ]
  },
  {
   "cell_type": "markdown",
   "id": "841e0d7a",
   "metadata": {},
   "source": [
    "### Stacked Bar Chart"
   ]
  },
  {
   "cell_type": "code",
   "execution_count": 25,
   "id": "eaf26a29",
   "metadata": {},
   "outputs": [
    {
     "data": {
      "image/png": "[encoded data removed]",
      "text/plain": [
       "<Figure size 640x480 with 1 Axes>"
      ]
     },
     "metadata": {},
     "output_type": "display_data"
    }
   ],
   "source": [
    "# Sort the dataframe by TotalCases in descending order and select the top 5 rows\n",
    "top_5 = covid_data.sort_values(by='TotalCases', ascending=False).head(5)\n",
    "\n",
    "# Create a stacked bar chart using Matplotlib\n",
    "fig, ax = plt.subplots()\n",
    "ax.bar(top_5['CountryName'], top_5['TotalCases'], label='Total Cases', color='b')\n",
    "ax.bar(top_5['CountryName'], top_5['TotalDeaths'], bottom=top_5['TotalCases'], label='Total Deaths', color='r')\n",
    "ax.bar(top_5['CountryName'], top_5['TotalRecovered'], bottom=top_5['TotalCases']+top_5['TotalDeaths'], label='Total Recovered', color='g')\n",
    "ax.legend()\n",
    "ax.set_xlabel('Country Name')\n",
    "ax.set_ylabel('Number of Cases')\n",
    "ax.set_title('Stacked Bar Chart of COVID-19 Cases by Country (Top 5)')\n",
    "plt.xticks(rotation=90)\n",
    "plt.show()"
   ]
  },
  {
   "cell_type": "markdown",
   "id": "944ccafb",
   "metadata": {},
   "source": [
    "### Pie Chart"
   ]
  },
  {
   "cell_type": "code",
   "execution_count": 26,
   "id": "88b3174f",
   "metadata": {},
   "outputs": [
    {
     "data": {
      "image/png": "[encoded data removed]",
      "text/plain": [
       "<Figure size 640x480 with 1 Axes>"
      ]
     },
     "metadata": {},
     "output_type": "display_data"
    }
   ],
   "source": [
    "# Calculate the total number of cases for each category (TotalCases, TotalDeaths, TotalRecovered)\n",
    "total_cases = covid_data['TotalCases'].sum()\n",
    "total_deaths = covid_data['TotalDeaths'].sum()\n",
    "total_recovered = covid_data['TotalRecovered'].sum()\n",
    "\n",
    "# Create a list of the number of cases for each category\n",
    "cases_list = [total_cases, total_deaths, total_recovered]\n",
    "\n",
    "# Create a list of labels for each category\n",
    "labels_list = ['Total Cases', 'Total Deaths', 'Total Recovered']\n",
    "\n",
    "# Create a list of colors for each category\n",
    "colors_list = ['b', 'r', 'g']\n",
    "\n",
    "# Create a pie chart using Matplotlib\n",
    "fig, ax = plt.subplots()\n",
    "ax.pie(cases_list, labels=labels_list, colors=colors_list, autopct='%1.1f%%', startangle=90)\n",
    "ax.axis('equal')\n",
    "ax.set_title('Pie Chart of COVID-19 Cases by Category')\n",
    "plt.show()"
   ]
  },
  {
   "cell_type": "code",
   "execution_count": 27,
   "id": "4872abe2",
   "metadata": {},
   "outputs": [
    {
     "data": {
      "image/png": "[encoded data removed]",
      "text/plain": [
       "<Figure size 640x480 with 1 Axes>"
      ]
     },
     "metadata": {},
     "output_type": "display_data"
    }
   ],
   "source": [
    "# Select the top 5 countries by TotalCases\n",
    "top5 = covid_data.sort_values('TotalCases', ascending=False).head(5)\n",
    "\n",
    "# Create a list of the number of cases for each category for the top 5 countries\n",
    "cases_list = top5['TotalCases'].tolist()\n",
    "deaths_list = top5['TotalDeaths'].tolist()\n",
    "recovered_list = top5['TotalRecovered'].tolist()\n",
    "\n",
    "# Create a list of labels for each category\n",
    "labels_list = top5['CountryName'].tolist()\n",
    "\n",
    "# Create a list of colors for each category\n",
    "colors_list = ['b', 'r', 'g', 'y', 'm']\n",
    "\n",
    "# Create a pie chart using Matplotlib\n",
    "fig, ax = plt.subplots()\n",
    "ax.pie(cases_list, labels=labels_list, colors=colors_list, autopct='%1.1f%%', startangle=90)\n",
    "ax.axis('equal')\n",
    "ax.set_title('Pie Chart of COVID-19 Cases by Country')\n",
    "plt.show()"
   ]
  }
 ],
 "metadata": {
  "kernelspec": {
   "display_name": "Python 3 (ipykernel)",
   "language": "python",
   "name": "python3"
  },
  "language_info": {
   "codemirror_mode": {
    "name": "ipython",
    "version": 3
   },
   "file_extension": ".py",
   "mimetype": "text/x-python",
   "name": "python",
   "nbconvert_exporter": "python",
   "pygments_lexer": "ipython3",
   "version": "3.10.6"
  }
 },
 "nbformat": 4,
 "nbformat_minor": 5
}
